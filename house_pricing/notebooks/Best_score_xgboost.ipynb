{
 "cells": [
  {
   "cell_type": "code",
   "execution_count": 1,
   "id": "f1f49d96",
   "metadata": {},
   "outputs": [],
   "source": [
    "import ipynb\n",
    "import numpy as np\n",
    "import pandas as pd\n",
    "from pandas.plotting import scatter_matrix\n",
    "import matplotlib.pyplot as plt\n",
    "\n",
    "from util import *\n",
    "\n",
    "import xgboost as xgb\n",
    "from xgboost import XGBRegressor\n",
    "\n",
    "import sklearn\n",
    "from sklearn.model_selection import train_test_split\n",
    "from sklearn.model_selection import RepeatedKFold\n",
    "from sklearn.model_selection import cross_val_score\n",
    "from sklearn.metrics import mean_squared_error\n",
    "from sklearn.base import BaseEstimator, TransformerMixin\n",
    "from sklearn.pipeline import Pipeline\n",
    "from sklearn.compose import ColumnTransformer\n",
    "from sklearn.linear_model import LinearRegression\n",
    "from sklearn.metrics import r2_score\n",
    "from sklearn.model_selection import KFold\n",
    "from sklearn.model_selection import cross_val_score\n",
    "\n",
    "import zipfile\n",
    "from io import BytesIO\n",
    "import pickle"
   ]
  },
  {
   "cell_type": "code",
   "execution_count": 2,
   "id": "22d1b855",
   "metadata": {},
   "outputs": [],
   "source": [
    "# Load data:\n",
    "path_1 = 'C:/Users/sjurg/OneDrive/Documents/Python/misc_data_sets/sberbank-russian-housing-market/'\n",
    "path_2 = 'C:/Users/sjurg/OneDrive/Documents/Python/DS-ML_Projects/house_pricing/extracted/'\n",
    "path_3 = 'C:/Users/sjurg/OneDrive/Documents/Python/DS-ML_Projects/house_pricing/preds/'\n",
    "macro = zipped_csv_to_df(path_1 + \"macro.csv.zip\")\n",
    "Train = zipped_csv_to_df(path_1 + \"train.csv.zip\")\n",
    "Test = zipped_csv_to_df(path_1 + \"test.csv.zip\")\n",
    "\n",
    "# Store id's separately:\n",
    "train_id = Train['id']\n",
    "test_id = Test['id']\n",
    "# Merge the train and macro feature data sets based on timestamps; remove the target column:\n",
    "combined_train = pd.merge_ordered(Train, macro, on='timestamp', how='left').drop('id', axis=1)\n",
    "# Merge the test and macro feature data sets based on timestamps:\n",
    "combined_test = pd.merge_ordered(Test, macro, on='timestamp', how='left').drop('id', axis=1)\n",
    "# Create train and test target sets:\n",
    "target_train = Train['price_doc']\n",
    "\n",
    "# Get 100 most important features from data exploration:\n",
    "with open(path_2 + \"top_100\", \"rb\") as fp:\n",
    "    top_100 = pickle.load(fp)\n",
    "top_100.remove('timestamp')"
   ]
  },
  {
   "cell_type": "code",
   "execution_count": 3,
   "id": "6dabf9ca",
   "metadata": {},
   "outputs": [],
   "source": [
    "combined_train_clean = clean_level_1(combined_train)\n",
    "combined_train_clean = clean_level_2(combined_train_clean)\n",
    "combined_train_clean = add_dates(combined_train_clean)\n",
    "combined_train_clean = add_misc_features(combined_train_clean)\n",
    "combined_train_clean = ordinal_encoding(combined_train_clean)\n",
    "train_target = combined_train_clean['price_doc']\n",
    "combined_train_clean = combined_train_clean.drop('price_doc', axis=1)[top_100]\n",
    "\n",
    "combined_test_clean = clean_level_1(combined_test)\n",
    "combined_test_clean = clean_level_2(combined_test_clean, train=False)\n",
    "combined_test_clean = add_dates(combined_test_clean)\n",
    "combined_test_clean = add_misc_features(combined_test_clean)\n",
    "combined_test_clean = clean_train_set_only(combined_test_clean)\n",
    "combined_test_clean = ordinal_encoding(combined_test_clean)[top_100]"
   ]
  },
  {
   "cell_type": "code",
   "execution_count": 4,
   "id": "f3ab078f",
   "metadata": {},
   "outputs": [
    {
     "data": {
      "text/plain": [
       "XGBRegressor(base_score=0.5, booster='gbtree', callbacks=None,\n",
       "             colsample_bylevel=1, colsample_bynode=1, colsample_bytree=0.7,\n",
       "             early_stopping_rounds=None, enable_categorical=False, eta=0.1,\n",
       "             eval_metric='rmse', gamma=0, gpu_id=-1, grow_policy='depthwise',\n",
       "             importance_type=None, interaction_constraints='',\n",
       "             learning_rate=0.100000001, max_bin=256, max_cat_to_onehot=4,\n",
       "             max_delta_step=0, max_depth=2, max_leaves=0, min_child_weight=1,\n",
       "             missing=nan, monotone_constraints='()', n_estimators=200, n_jobs=0,\n",
       "             num_parallel_tree=1, predictor='auto', random_state=0, reg_alpha=0, ...)"
      ]
     },
     "execution_count": 4,
     "metadata": {},
     "output_type": "execute_result"
    }
   ],
   "source": [
    "model = XGBRegressor(n_estimators=200, eta=0.1, max_depth=2, subsample=1.0, colsample_bytree=0.7, objective='reg:squarederror',\n",
    "                    eval_metric='rmse')\n",
    "model.fit(combined_train_clean, np.log1p(train_target))"
   ]
  },
  {
   "cell_type": "code",
   "execution_count": 5,
   "id": "b75f166e",
   "metadata": {},
   "outputs": [],
   "source": [
    "test_predictions = model.predict(combined_test_clean)\n",
    "test_predictions = np.expm1(test_predictions)"
   ]
  },
  {
   "cell_type": "code",
   "execution_count": 6,
   "id": "fac79338",
   "metadata": {},
   "outputs": [],
   "source": [
    "predictions = pd.DataFrame({'id': test_id, 'price_doc': test_predictions})\n",
    "predictions.to_csv(path_3 + \"predictions2.csv\", index=False)"
   ]
  },
  {
   "cell_type": "markdown",
   "id": "70b8037f",
   "metadata": {},
   "source": [
    "This produces a score of 0.32793. Marginal improvement compared to the more 'basic' data preparation..."
   ]
  }
 ],
 "metadata": {
  "kernelspec": {
   "display_name": "Python 3",
   "language": "python",
   "name": "python3"
  },
  "language_info": {
   "codemirror_mode": {
    "name": "ipython",
    "version": 3
   },
   "file_extension": ".py",
   "mimetype": "text/x-python",
   "name": "python",
   "nbconvert_exporter": "python",
   "pygments_lexer": "ipython3",
   "version": "3.8.8"
  }
 },
 "nbformat": 4,
 "nbformat_minor": 5
}
